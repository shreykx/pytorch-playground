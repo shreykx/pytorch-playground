{
  "nbformat": 4,
  "nbformat_minor": 0,
  "metadata": {
    "colab": {
      "provenance": [],
      "mount_file_id": "167fN-ZtmyxFeMqv4D3qhgqoCjJoysE8W",
      "authorship_tag": "ABX9TyMEfnjH4u/BovRHLvyfSUja",
      "include_colab_link": true
    },
    "kernelspec": {
      "name": "python3",
      "display_name": "Python 3"
    },
    "language_info": {
      "name": "python"
    }
  },
  "cells": [
    {
      "cell_type": "markdown",
      "metadata": {
        "id": "view-in-github",
        "colab_type": "text"
      },
      "source": [
        "<a href=\"https://colab.research.google.com/github/shreykx/pytorch-playground/blob/main/pollution.ipynb\" target=\"_parent\"><img src=\"https://colab.research.google.com/assets/colab-badge.svg\" alt=\"Open In Colab\"/></a>"
      ]
    },
    {
      "cell_type": "code",
      "execution_count": 2,
      "metadata": {
        "colab": {
          "base_uri": "https://localhost:8080/",
          "height": 36
        },
        "id": "rzVRuQMlwUJJ",
        "outputId": "87df6c7e-dd37-4eac-c407-c2a6a04df598"
      },
      "outputs": [
        {
          "output_type": "execute_result",
          "data": {
            "text/plain": [
              "'2.5.1+cu121'"
            ],
            "application/vnd.google.colaboratory.intrinsic+json": {
              "type": "string"
            }
          },
          "metadata": {},
          "execution_count": 2
        }
      ],
      "source": [
        "import torch\n",
        "import torch.nn as nn\n",
        "import torch.optim as optim\n",
        "import matplotlib.pyplot as plt\n",
        "import numpy as np\n",
        "import pandas as pd\n",
        "from sklearn.model_selection import train_test_split\n",
        "from sklearn.preprocessing import LabelEncoder\n",
        "\n",
        "torch.__version__"
      ]
    },
    {
      "cell_type": "code",
      "source": [
        "df = pd.read_csv('updated_pollution_dataset.csv')"
      ],
      "metadata": {
        "id": "1ArW4QUG0YOm"
      },
      "execution_count": 3,
      "outputs": []
    },
    {
      "cell_type": "code",
      "source": [
        "plt.plot(df[\"Air Quality\"][:10])"
      ],
      "metadata": {
        "colab": {
          "base_uri": "https://localhost:8080/",
          "height": 448
        },
        "id": "68ZUQe5D3zfI",
        "outputId": "1d4d186f-fa24-4ac2-c6d6-0cd05c8dec8b"
      },
      "execution_count": 4,
      "outputs": [
        {
          "output_type": "execute_result",
          "data": {
            "text/plain": [
              "[<matplotlib.lines.Line2D at 0x79158563b5b0>]"
            ]
          },
          "metadata": {},
          "execution_count": 4
        },
        {
          "output_type": "display_data",
          "data": {
            "text/plain": [
              "<Figure size 640x480 with 1 Axes>"
            ],
            "image/png": "[encoded data removed]"
          },
          "metadata": {}
        }
      ]
    },
    {
      "cell_type": "markdown",
      "source": [
        "We're going to use a **Multiple Regression Model**"
      ],
      "metadata": {
        "id": "P06S3qOW52-w"
      }
    },
    {
      "cell_type": "code",
      "source": [
        "X = df[[\"Temperature\", \"Humidity\", \"PM2.5\", \"PM10\", \"NO2\", \"SO2\", \"CO\", \"Proximity_to_Industrial_Areas\", \"Population_Density\"]].values\n",
        "y = df[\"Air Quality\"].values\n",
        "\n",
        "\n",
        "\n",
        "# we'll convert the string type y vals into numeric for\n",
        "label_encoder = LabelEncoder()\n",
        "y = label_encoder.fit_transform(y)"
      ],
      "metadata": {
        "id": "WnbivSFEW5wO"
      },
      "execution_count": 5,
      "outputs": []
    },
    {
      "cell_type": "code",
      "source": [
        "X[:10] # Viewing X till 10"
      ],
      "metadata": {
        "colab": {
          "base_uri": "https://localhost:8080/"
        },
        "id": "9IiE9mi1X4-o",
        "outputId": "94dea6ea-5491-4629-ec22-0d24c6b66ecd"
      },
      "execution_count": 6,
      "outputs": [
        {
          "output_type": "execute_result",
          "data": {
            "text/plain": [
              "array([[ 29.8 ,  59.1 ,   5.2 ,  17.9 ,  18.9 ,   9.2 ,   1.72,   6.3 ,\n",
              "        319.  ],\n",
              "       [ 28.3 ,  75.6 ,   2.3 ,  12.2 ,  30.8 ,   9.7 ,   1.64,   6.  ,\n",
              "        611.  ],\n",
              "       [ 23.1 ,  74.7 ,  26.7 ,  33.8 ,  24.4 ,  12.6 ,   1.63,   5.2 ,\n",
              "        619.  ],\n",
              "       [ 27.1 ,  39.1 ,   6.1 ,   6.3 ,  13.5 ,   5.3 ,   1.15,  11.1 ,\n",
              "        551.  ],\n",
              "       [ 26.5 ,  70.7 ,   6.9 ,  16.  ,  21.9 ,   5.6 ,   1.01,  12.7 ,\n",
              "        303.  ],\n",
              "       [ 39.4 ,  96.6 ,  14.6 ,  35.5 ,  42.9 ,  17.9 ,   1.82,   3.1 ,\n",
              "        674.  ],\n",
              "       [ 41.7 ,  82.5 ,   1.7 ,  15.8 ,  31.1 ,  12.7 ,   1.8 ,   4.6 ,\n",
              "        735.  ],\n",
              "       [ 31.  ,  59.6 ,   5.  ,  16.8 ,  24.2 ,  13.6 ,   1.38,   6.3 ,\n",
              "        443.  ],\n",
              "       [ 29.4 ,  93.8 ,  10.3 ,  22.7 ,  45.1 ,  11.8 ,   2.03,   5.4 ,\n",
              "        486.  ],\n",
              "       [ 33.2 ,  80.5 ,  11.1 ,  24.4 ,  32.  ,  15.3 ,   1.69,   4.9 ,\n",
              "        535.  ]])"
            ]
          },
          "metadata": {},
          "execution_count": 6
        }
      ]
    },
    {
      "cell_type": "code",
      "source": [
        "y[:10] # viewing y till 10"
      ],
      "metadata": {
        "colab": {
          "base_uri": "https://localhost:8080/"
        },
        "id": "rKTe5CsGX7WM",
        "outputId": "8ac9bcb8-645f-4601-b734-dd88c9223c7e"
      },
      "execution_count": 7,
      "outputs": [
        {
          "output_type": "execute_result",
          "data": {
            "text/plain": [
              "array([2, 2, 2, 0, 0, 1, 3, 2, 3, 3])"
            ]
          },
          "metadata": {},
          "execution_count": 7
        }
      ]
    },
    {
      "cell_type": "code",
      "source": [
        "y"
      ],
      "metadata": {
        "colab": {
          "base_uri": "https://localhost:8080/"
        },
        "id": "-pSReiv6acbi",
        "outputId": "3e95036d-7a34-48fd-d929-ef985c420bdf"
      },
      "execution_count": 8,
      "outputs": [
        {
          "output_type": "execute_result",
          "data": {
            "text/plain": [
              "array([2, 2, 2, ..., 2, 0, 2])"
            ]
          },
          "metadata": {},
          "execution_count": 8
        }
      ]
    },
    {
      "cell_type": "code",
      "source": [
        "X_train, X_test, y_train, y_test = train_test_split(X, y, test_size=0.2, random_state=42)"
      ],
      "metadata": {
        "id": "RK6TJzmA08c6"
      },
      "execution_count": 9,
      "outputs": []
    },
    {
      "cell_type": "code",
      "source": [
        "X_train[:-10], len(X_train)"
      ],
      "metadata": {
        "colab": {
          "base_uri": "https://localhost:8080/"
        },
        "id": "i5xWMbd2YIy-",
        "outputId": "e432ad75-be71-4934-de69-245c6a0d3376"
      },
      "execution_count": 10,
      "outputs": [
        {
          "output_type": "execute_result",
          "data": {
            "text/plain": [
              "(array([[3.880e+01, 9.250e+01, 8.300e+00, ..., 2.190e+00, 3.900e+00,\n",
              "         6.980e+02],\n",
              "        [2.630e+01, 5.410e+01, 9.000e-01, ..., 9.500e-01, 1.010e+01,\n",
              "         3.160e+02],\n",
              "        [3.720e+01, 1.113e+02, 2.000e-01, ..., 2.120e+00, 7.700e+00,\n",
              "         7.530e+02],\n",
              "        ...,\n",
              "        [4.420e+01, 9.530e+01, 1.700e+00, ..., 2.430e+00, 4.100e+00,\n",
              "         5.810e+02],\n",
              "        [5.650e+01, 1.135e+02, 7.460e+01, ..., 2.200e+00, 3.600e+00,\n",
              "         6.900e+02],\n",
              "        [3.230e+01, 6.950e+01, 4.000e-01, ..., 1.350e+00, 5.800e+00,\n",
              "         6.430e+02]]),\n",
              " 4000)"
            ]
          },
          "metadata": {},
          "execution_count": 10
        }
      ]
    },
    {
      "cell_type": "code",
      "source": [
        "X_test[:-10], len(X_test)"
      ],
      "metadata": {
        "colab": {
          "base_uri": "https://localhost:8080/"
        },
        "id": "zCBb_VCiYJqY",
        "outputId": "bb838bdd-d225-4216-9f53-79343060a455"
      },
      "execution_count": 11,
      "outputs": [
        {
          "output_type": "execute_result",
          "data": {
            "text/plain": [
              "(array([[ 31.3 ,  73.4 ,  72.8 , ...,   2.54,   2.6 , 755.  ],\n",
              "        [ 24.  ,  68.8 ,   0.8 , ...,   1.16,  10.5 , 235.  ],\n",
              "        [ 25.4 ,  78.6 ,   4.1 , ...,   1.4 ,  10.1 , 543.  ],\n",
              "        ...,\n",
              "        [ 33.1 ,  99.2 ,  17.6 , ...,   2.45,   6.8 , 623.  ],\n",
              "        [ 31.9 ,  53.6 ,  13.3 , ...,   1.67,  11.3 , 366.  ],\n",
              "        [ 33.8 ,  66.9 ,   5.8 , ...,   1.06,  14.4 , 298.  ]]),\n",
              " 1000)"
            ]
          },
          "metadata": {},
          "execution_count": 11
        }
      ]
    },
    {
      "cell_type": "code",
      "source": [
        "y_train[:-10], y_test[:-10], len(y_train), len(y_test)"
      ],
      "metadata": {
        "colab": {
          "base_uri": "https://localhost:8080/"
        },
        "id": "QO4MVmipYM5i",
        "outputId": "95bf0148-78d2-4df8-c02a-e0a1d7ccf7fe"
      },
      "execution_count": 12,
      "outputs": [
        {
          "output_type": "execute_result",
          "data": {
            "text/plain": [
              "(array([1, 0, 3, ..., 1, 1, 2]),\n",
              " array([1, 0, 2, 1, 0, 1, 0, 0, 0, 2, 2, 0, 3, 0, 2, 0, 0, 0, 2, 3, 0, 0,\n",
              "        3, 2, 0, 3, 0, 0, 2, 2, 0, 3, 3, 2, 2, 2, 2, 2, 2, 0, 3, 2, 1, 0,\n",
              "        0, 2, 2, 3, 0, 0, 2, 0, 0, 0, 0, 2, 1, 2, 3, 0, 0, 0, 0, 2, 0, 1,\n",
              "        3, 0, 2, 2, 0, 0, 2, 0, 0, 2, 2, 2, 0, 0, 0, 3, 3, 0, 2, 2, 1, 2,\n",
              "        2, 3, 2, 0, 0, 3, 3, 2, 2, 0, 3, 0, 1, 2, 3, 2, 1, 0, 0, 0, 2, 0,\n",
              "        2, 2, 2, 0, 2, 3, 1, 0, 0, 0, 2, 3, 3, 2, 3, 0, 2, 2, 0, 0, 2, 0,\n",
              "        3, 0, 2, 2, 0, 0, 2, 0, 0, 3, 0, 0, 2, 2, 1, 0, 2, 2, 3, 3, 3, 0,\n",
              "        0, 3, 2, 2, 2, 2, 1, 0, 2, 1, 3, 3, 0, 0, 0, 0, 2, 3, 0, 1, 0, 0,\n",
              "        0, 2, 0, 3, 3, 0, 2, 0, 0, 3, 0, 0, 0, 0, 1, 1, 2, 1, 2, 2, 1, 1,\n",
              "        3, 3, 0, 0, 2, 2, 0, 0, 0, 2, 0, 0, 0, 0, 3, 2, 2, 2, 2, 3, 0, 1,\n",
              "        0, 2, 0, 2, 0, 2, 1, 1, 2, 0, 0, 0, 0, 0, 0, 1, 0, 3, 3, 2, 2, 0,\n",
              "        2, 1, 0, 2, 0, 0, 0, 0, 2, 2, 0, 1, 3, 3, 0, 0, 1, 3, 0, 2, 0, 1,\n",
              "        0, 2, 3, 3, 2, 0, 2, 2, 2, 0, 1, 1, 2, 0, 3, 0, 1, 0, 0, 3, 2, 0,\n",
              "        3, 2, 0, 2, 2, 1, 0, 0, 2, 2, 2, 2, 2, 0, 2, 2, 0, 2, 3, 2, 0, 2,\n",
              "        3, 0, 0, 0, 0, 3, 0, 1, 2, 0, 2, 0, 2, 2, 2, 2, 0, 1, 3, 2, 0, 2,\n",
              "        0, 3, 3, 3, 2, 2, 0, 0, 3, 3, 0, 3, 2, 1, 2, 2, 0, 2, 0, 0, 3, 2,\n",
              "        0, 2, 0, 0, 0, 1, 0, 0, 0, 0, 2, 2, 0, 2, 0, 2, 2, 2, 2, 2, 3, 0,\n",
              "        0, 2, 3, 0, 2, 0, 3, 0, 0, 0, 0, 3, 2, 0, 3, 2, 2, 2, 2, 2, 0, 0,\n",
              "        2, 1, 0, 0, 0, 0, 3, 3, 0, 0, 3, 0, 3, 0, 2, 2, 1, 0, 3, 0, 0, 1,\n",
              "        0, 0, 3, 3, 0, 2, 0, 3, 2, 3, 2, 3, 0, 2, 1, 2, 2, 0, 0, 3, 3, 3,\n",
              "        1, 0, 0, 1, 2, 0, 2, 2, 0, 3, 0, 0, 0, 3, 1, 3, 0, 2, 0, 0, 0, 3,\n",
              "        3, 1, 0, 1, 0, 0, 2, 3, 0, 2, 2, 0, 0, 2, 3, 0, 2, 1, 0, 0, 2, 3,\n",
              "        0, 0, 3, 0, 2, 2, 2, 0, 0, 2, 0, 0, 2, 2, 3, 3, 3, 2, 2, 0, 3, 0,\n",
              "        3, 0, 2, 2, 1, 3, 2, 0, 3, 0, 2, 3, 3, 3, 0, 0, 3, 0, 3, 2, 0, 2,\n",
              "        1, 3, 3, 2, 0, 3, 0, 2, 3, 2, 0, 1, 2, 1, 0, 0, 0, 0, 3, 2, 0, 2,\n",
              "        2, 0, 3, 2, 2, 2, 2, 2, 1, 1, 2, 1, 0, 0, 3, 1, 3, 2, 0, 0, 0, 3,\n",
              "        3, 1, 0, 0, 0, 1, 2, 0, 3, 2, 3, 0, 3, 1, 0, 0, 3, 0, 2, 3, 0, 0,\n",
              "        1, 0, 3, 0, 0, 0, 2, 3, 0, 0, 1, 2, 3, 2, 1, 2, 2, 2, 1, 2, 2, 0,\n",
              "        3, 3, 3, 0, 3, 0, 0, 1, 0, 0, 0, 1, 0, 1, 2, 2, 3, 2, 0, 2, 0, 2,\n",
              "        0, 0, 3, 0, 0, 0, 0, 3, 2, 1, 0, 0, 3, 2, 3, 2, 2, 2, 0, 3, 2, 0,\n",
              "        2, 0, 0, 2, 0, 2, 0, 1, 1, 0, 2, 2, 0, 0, 0, 2, 3, 3, 3, 0, 2, 0,\n",
              "        0, 2, 0, 1, 2, 0, 1, 3, 3, 0, 2, 0, 3, 1, 2, 0, 1, 0, 3, 2, 3, 1,\n",
              "        2, 0, 0, 2, 3, 1, 2, 2, 2, 2, 0, 0, 2, 0, 0, 0, 2, 2, 3, 2, 3, 0,\n",
              "        3, 2, 0, 0, 0, 2, 2, 0, 2, 0, 0, 2, 3, 2, 0, 1, 2, 3, 1, 0, 1, 0,\n",
              "        1, 2, 0, 0, 0, 0, 0, 1, 3, 2, 3, 0, 0, 0, 0, 0, 0, 3, 0, 2, 2, 1,\n",
              "        0, 1, 1, 2, 0, 2, 0, 0, 0, 0, 1, 1, 0, 3, 2, 1, 3, 0, 0, 3, 0, 0,\n",
              "        1, 2, 1, 2, 0, 0, 3, 0, 0, 1, 0, 0, 2, 1, 1, 1, 2, 3, 0, 0, 1, 0,\n",
              "        3, 3, 2, 0, 2, 2, 0, 3, 3, 0, 3, 0, 2, 2, 3, 3, 3, 2, 0, 3, 0, 0,\n",
              "        1, 0, 0, 2, 2, 0, 2, 0, 3, 2, 3, 0, 0, 3, 0, 3, 2, 0, 1, 2, 0, 0,\n",
              "        2, 2, 1, 3, 1, 2, 0, 2, 2, 2, 0, 2, 0, 0, 0, 0, 0, 3, 2, 0, 0, 2,\n",
              "        1, 0, 3, 2, 3, 3, 2, 3, 2, 0, 2, 2, 0, 0, 2, 1, 0, 2, 1, 0, 1, 0,\n",
              "        3, 1, 0, 2, 3, 3, 0, 2, 0, 1, 0, 2, 0, 3, 0, 1, 0, 0, 0, 2, 2, 3,\n",
              "        2, 0, 0, 1, 0, 0, 0, 3, 1, 0, 0, 2, 0, 0, 2, 0, 0, 1, 0, 0, 2, 0,\n",
              "        0, 2, 2, 0, 0, 1, 3, 1, 0, 2, 2, 0, 0, 2, 3, 0, 3, 3, 2, 1, 1, 3,\n",
              "        0, 0, 2, 0, 0, 2, 0, 3, 3, 2, 1, 3, 0, 3, 0, 0, 3, 3, 0, 1, 2, 0]),\n",
              " 4000,\n",
              " 1000)"
            ]
          },
          "metadata": {},
          "execution_count": 12
        }
      ]
    },
    {
      "cell_type": "code",
      "source": [
        "len(X_train)==len(y_train) # must be true"
      ],
      "metadata": {
        "colab": {
          "base_uri": "https://localhost:8080/"
        },
        "id": "4Aweo4QaYZ3t",
        "outputId": "07dccd4a-f677-4cda-883a-a9ee776c8014"
      },
      "execution_count": 13,
      "outputs": [
        {
          "output_type": "execute_result",
          "data": {
            "text/plain": [
              "True"
            ]
          },
          "metadata": {},
          "execution_count": 13
        }
      ]
    },
    {
      "cell_type": "code",
      "source": [
        "len(X_test)==len(y_test) # must be true"
      ],
      "metadata": {
        "colab": {
          "base_uri": "https://localhost:8080/"
        },
        "id": "jzIdXc-PYnZG",
        "outputId": "5ef3ef3e-66d2-4b75-e903-47958657883b"
      },
      "execution_count": 14,
      "outputs": [
        {
          "output_type": "execute_result",
          "data": {
            "text/plain": [
              "True"
            ]
          },
          "metadata": {},
          "execution_count": 14
        }
      ]
    },
    {
      "cell_type": "code",
      "source": [
        "X_train_tensor = torch.tensor(X_train, dtype=torch.float32)\n",
        "X_test_tensor = torch.tensor(X_test, dtype=torch.float32)\n",
        "y_train_tensor = torch.tensor(y_train, dtype=torch.long)\n",
        "y_test_tensor = torch.tensor(y_test, dtype=torch.long)"
      ],
      "metadata": {
        "id": "l1g4_yW5Z0kR"
      },
      "execution_count": 20,
      "outputs": []
    },
    {
      "cell_type": "code",
      "source": [
        "X[:4]"
      ],
      "metadata": {
        "colab": {
          "base_uri": "https://localhost:8080/"
        },
        "id": "UHTEAfyOb8QN",
        "outputId": "29686e79-88ee-4bdf-830e-300930924e07"
      },
      "execution_count": 21,
      "outputs": [
        {
          "output_type": "execute_result",
          "data": {
            "text/plain": [
              "array([[ 29.8 ,  59.1 ,   5.2 ,  17.9 ,  18.9 ,   9.2 ,   1.72,   6.3 ,\n",
              "        319.  ],\n",
              "       [ 28.3 ,  75.6 ,   2.3 ,  12.2 ,  30.8 ,   9.7 ,   1.64,   6.  ,\n",
              "        611.  ],\n",
              "       [ 23.1 ,  74.7 ,  26.7 ,  33.8 ,  24.4 ,  12.6 ,   1.63,   5.2 ,\n",
              "        619.  ],\n",
              "       [ 27.1 ,  39.1 ,   6.1 ,   6.3 ,  13.5 ,   5.3 ,   1.15,  11.1 ,\n",
              "        551.  ]])"
            ]
          },
          "metadata": {},
          "execution_count": 21
        }
      ]
    },
    {
      "cell_type": "markdown",
      "source": [
        "# **Building Model Class**\n",
        "\n"
      ],
      "metadata": {
        "id": "neHIStwpY1ct"
      }
    },
    {
      "cell_type": "code",
      "source": [
        "class Classifier(nn.Module):\n",
        "  def __init__(self, input_size, output_size):\n",
        "      super(Classifier, self).__init__()\n",
        "      self.fc1 = nn.Linear(input_size, 64) # 64 neurons hidden layer\n",
        "      self.fc2 = nn.Linear(64, output_size) # output layer\n",
        "  def forward(self, x):\n",
        "    x = torch.relu(self.fc1(x))\n",
        "    x = self.fc2(x)\n",
        "    return x"
      ],
      "metadata": {
        "id": "N-vNg4-aYpZC"
      },
      "execution_count": 22,
      "outputs": []
    },
    {
      "cell_type": "code",
      "source": [
        "input_size = X_train_tensor.shape[1]\n",
        "output_size = len(np.unique(y))\n",
        "\n",
        "model = Classifier(input_size, output_size)\n",
        "\n",
        "criterion= nn.CrossEntropyLoss()\n",
        "\n",
        "optimizer = optim.Adam(model.parameters(), lr=0.001)\n",
        "\n",
        "epochs = 1000\n",
        "\n",
        "for epoch in range(epochs):\n",
        "  model.train()\n",
        "\n",
        "\n",
        "  outputs = model(X_train_tensor)\n",
        "  loss = criterion(outputs, y_train_tensor)\n",
        "\n",
        "  # backward pass and optimization\n",
        "\n",
        "  optimizer.zero_grad()\n",
        "  loss.backward()\n",
        "  optimizer.step()\n",
        "\n",
        "  if (epoch+1)%100 == 0:\n",
        "      print(f'Epoch [{epoch+1}/{epochs}], Loss: {loss.item():.4f}')\n",
        "model.eval()\n",
        "with torch.no_grad():\n",
        "  outputs = model(X_test_tensor)\n",
        "  _, predicted = torch.max(outputs, 1) # predicted class\n",
        "  accuracy = (predicted == y_test_tensor).sum().item() / y_test_tensor.size(0)\n",
        "print(f'Accuracy on the test set: {accuracy * 100:.2f}%')"
      ],
      "metadata": {
        "colab": {
          "base_uri": "https://localhost:8080/"
        },
        "id": "2Qr6CX5rY3lV",
        "outputId": "cc8675ef-97a1-4369-efe7-efb3196f2d58"
      },
      "execution_count": 23,
      "outputs": [
        {
          "output_type": "stream",
          "name": "stdout",
          "text": [
            "Epoch [100/1000], Loss: 1.2456\n",
            "Epoch [200/1000], Loss: 0.9782\n",
            "Epoch [300/1000], Loss: 0.8517\n",
            "Epoch [400/1000], Loss: 0.7665\n",
            "Epoch [500/1000], Loss: 0.7040\n",
            "Epoch [600/1000], Loss: 0.6576\n",
            "Epoch [700/1000], Loss: 0.6209\n",
            "Epoch [800/1000], Loss: 0.5907\n",
            "Epoch [900/1000], Loss: 0.5644\n",
            "Epoch [1000/1000], Loss: 0.5400\n",
            "Accuracy on the test set: 78.80%\n"
          ]
        }
      ]
    },
    {
      "cell_type": "code",
      "source": [
        "# visualizing\n",
        "plt.scatter(range(len(y_test_tensor)), y_test_tensor.numpy(), label='Actual', color='blue')\n",
        "plt.scatter(range(len(y_test_tensor)), predicted.numpy(), label='Predicted', color='red', marker='x')\n",
        "plt.xlabel('Sample index')\n",
        "plt.ylabel('Class')\n",
        "plt.legend()\n",
        "plt.show()"
      ],
      "metadata": {
        "colab": {
          "base_uri": "https://localhost:8080/",
          "height": 449
        },
        "id": "8ux7j6VWlOIJ",
        "outputId": "49f0dba4-5893-4c04-ac88-849765a2b29d"
      },
      "execution_count": 24,
      "outputs": [
        {
          "output_type": "display_data",
          "data": {
            "text/plain": [
              "<Figure size 640x480 with 1 Axes>"
            ],
            "image/png": "[encoded data removed]"
          },
          "metadata": {}
        }
      ]
    }
  ]
}